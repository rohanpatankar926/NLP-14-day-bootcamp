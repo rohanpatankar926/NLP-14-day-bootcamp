{
 "cells": [
  {
   "cell_type": "code",
   "execution_count": 2,
   "metadata": {},
   "outputs": [
    {
     "name": "stderr",
     "output_type": "stream",
     "text": [
      "[nltk_data] Downloading package stopwords to\n",
      "[nltk_data]     /home/dataguy/nltk_data...\n",
      "[nltk_data]   Package stopwords is already up-to-date!\n",
      "[nltk_data] Downloading package punkt to /home/dataguy/nltk_data...\n",
      "[nltk_data]   Unzipping tokenizers/punkt.zip.\n"
     ]
    },
    {
     "name": "stdout",
     "output_type": "stream",
     "text": [
      "['This', 'sample', 'text', ',', 'showing', 'stop', 'words', 'filtration', '.']\n"
     ]
    }
   ],
   "source": [
    "#STOPWORDS REMOVAL\n",
    "\n",
    "from nltk.corpus import stopwords\n",
    "from nltk.tokenize import word_tokenize\n",
    "import nltk\n",
    "class TextPreprocessor:\n",
    "    def remove_stopwords(self,text):\n",
    "        self.stop_words = set(stopwords.words(\"english\"))\n",
    "        self.words = word_tokenize(text)\n",
    "        filtered_text = [w for w in self.words if not w in self.stop_words]\n",
    "        return filtered_text\n",
    "\n",
    "\n",
    "if __name__==\"__main__\":\n",
    "    nltk.download('stopwords')\n",
    "    nltk.download(\"punkt\")\n",
    "    text = \"This is a sample text, showing off the stop words filtration.\"\n",
    "    tp = TextPreprocessor()\n",
    "    print(tp.remove_stopwords(text))"
   ]
  },
  {
   "cell_type": "code",
   "execution_count": 4,
   "metadata": {},
   "outputs": [
    {
     "name": "stdout",
     "output_type": "stream",
     "text": [
      "['thi', 'is', 'a', 'sampl', 'text', ',', 'show', 'off', 'the', 'stop', 'word', 'filtrat', '.']\n"
     ]
    }
   ],
   "source": [
    "#STEMMING\n",
    "\n",
    "# STEMMING IS THE PROCESS OF REDUCING INFLECTION IN WORDS\n",
    "# TO THEIR ROOT FORMS SUCH AS MAPPING A GROUP OF WORDS TO THE SAME \n",
    "# STEM EVEN IF THE STEM IS NOT A VALID WORD IN THE LANGUAGE\n",
    "\n",
    "from nltk.stem import PorterStemmer\n",
    "from nltk.tokenize import word_tokenize\n",
    "import nltk\n",
    "stem=PorterStemmer()\n",
    "\n",
    "def s_words(text):\n",
    "    words=word_tokenize(text)\n",
    "    stems=[stem.stem(word) for word in words]\n",
    "    return stems\n",
    "\n",
    "if __name__==\"__main__\":\n",
    "    text = \"This is a sample text, showing off the stop words filtration.\"\n",
    "    print(s_words(text))"
   ]
  },
  {
   "cell_type": "code",
   "execution_count": 7,
   "metadata": {},
   "outputs": [
    {
     "name": "stderr",
     "output_type": "stream",
     "text": [
      "[nltk_data] Downloading package wordnet to /home/dataguy/nltk_data...\n",
      "[nltk_data]   Package wordnet is already up-to-date!\n",
      "[nltk_data] Downloading package omw-1.4 to /home/dataguy/nltk_data...\n"
     ]
    },
    {
     "name": "stdout",
     "output_type": "stream",
     "text": [
      "['This', 'is', 'a', 'sample', 'text', ',', 'showing', 'off', 'the', 'stop', 'word', 'filtration', '.']\n"
     ]
    }
   ],
   "source": [
    "#lemmatization\n",
    "#  LEMMATIZATION IS THE PROCESS OF GROUPING TOGETHER THE\n",
    "\n",
    "# INFLECTED FORMS OF A WORD SO THEY CAN BE ANALYZED AS A SINGLE ITEM\n",
    "\n",
    "#it will help us to find the similarity between two words\n",
    "#more menaingful words\n",
    "from nltk.stem import WordNetLemmatizer\n",
    "from nltk.tokenize import word_tokenize\n",
    "import nltk\n",
    "lemmatizer=WordNetLemmatizer()\n",
    "\n",
    "def l_words(text):\n",
    "    words=word_tokenize(text)\n",
    "    lemmas=[lemmatizer.lemmatize(word) for word in words]\n",
    "    return lemmas\n",
    "\n",
    "if __name__==\"__main__\":\n",
    "    nltk.download('wordnet')\n",
    "    nltk.download('omw-1.4')\n",
    "    text = \"This is a sample text, showing off the stop words filtration.\"\n",
    "    print(l_words(text))"
   ]
  },
  {
   "cell_type": "code",
   "execution_count": 13,
   "metadata": {},
   "outputs": [
    {
     "name": "stdout",
     "output_type": "stream",
     "text": [
      "[('This', 'DT'), ('is', 'VBZ'), ('a', 'DT'), ('sample', 'JJ'), ('text', 'NN'), (',', ','), ('showing', 'VBG'), ('off', 'RP'), ('the', 'DT'), ('stop', 'NN'), ('words', 'NNS'), ('filtration', 'NN'), ('.', '.')]\n"
     ]
    },
    {
     "name": "stderr",
     "output_type": "stream",
     "text": [
      "[nltk_data] Downloading package averaged_perceptron_tagger to\n",
      "[nltk_data]     /home/dataguy/nltk_data...\n",
      "[nltk_data]   Package averaged_perceptron_tagger is already up-to-\n",
      "[nltk_data]       date!\n"
     ]
    }
   ],
   "source": [
    "#POS TAGGING\n",
    "# PARTS OF SPEECH TAGGING IS THE PROCESS OF CLASSIFYING WORDS INTO THEIR\n",
    "# RESPECTIVE PARTS OF SPEECH AND LABELING THEM ACCORDINGLY\n",
    "\n",
    "from nltk import pos_tag\n",
    "from nltk.tokenize import word_tokenize\n",
    "import nltk\n",
    "def pos_tagging(text):\n",
    "    words=word_tokenize(text)\n",
    "    pos=pos_tag(words)\n",
    "    return pos\n",
    "\n",
    "if __name__==\"__main__\":\n",
    "    nltk.download('averaged_perceptron_tagger')\n",
    "    text = \"This is a sample text, showing off the stop words filtration.\"\n",
    "    print(pos_tagging(text))\n"
   ]
  },
  {
   "cell_type": "code",
   "execution_count": 17,
   "metadata": {},
   "outputs": [
    {
     "name": "stdout",
     "output_type": "stream",
     "text": [
      "(S\n",
      "  (GPE America/NNP)\n",
      "  ,/,\n",
      "  (GPE India/NNP)\n",
      "  ,/,\n",
      "  showing/VBG\n",
      "  off/RP\n",
      "  the/DT\n",
      "  stop/NN\n",
      "  words/NNS\n",
      "  filtration/NN\n",
      "  ./.)\n"
     ]
    },
    {
     "name": "stderr",
     "output_type": "stream",
     "text": [
      "[nltk_data] Downloading package maxent_ne_chunker to\n",
      "[nltk_data]     /home/dataguy/nltk_data...\n",
      "[nltk_data]   Package maxent_ne_chunker is already up-to-date!\n",
      "[nltk_data] Downloading package words to /home/dataguy/nltk_data...\n",
      "[nltk_data]   Package words is already up-to-date!\n"
     ]
    }
   ],
   "source": [
    "#named entity recognition\n",
    "# NAMED ENTITY RECOGNITION IS THE PROCESS OF IDENTIFYING AND CLASSIFYING\n",
    "\n",
    "# ENTITIES IN TEXT INTO PREDEFINED CATEGORIES SUCH AS THE NAMES OF PERSONS, ORGANIZATIONS, LOCATIONS, MONETARY VALUES, PERCENTAGES, TIMES, ETC.\n",
    "\n",
    "from nltk import ne_chunk\n",
    "from nltk.tokenize import word_tokenize\n",
    "import nltk\n",
    "def ner(text):\n",
    "    words=word_tokenize(text)\n",
    "    pos=pos_tag(words)\n",
    "    ner=ne_chunk(pos)\n",
    "    return ner\n",
    "\n",
    "if __name__==\"__main__\":\n",
    "    nltk.download('maxent_ne_chunker')\n",
    "    nltk.download('words')\n",
    "    text = \"America, India, showing off the stop words filtration.\"\n",
    "    print(ner(text))"
   ]
  },
  {
   "cell_type": "code",
   "execution_count": 1,
   "metadata": {},
   "outputs": [],
   "source": [
    "#UNDERSTANDING REGEX"
   ]
  },
  {
   "cell_type": "code",
   "execution_count": 6,
   "metadata": {},
   "outputs": [
    {
     "name": "stdout",
     "output_type": "stream",
     "text": [
      "['21', '33']\n"
     ]
    }
   ],
   "source": [
    "import re\n",
    "def regex(text):\n",
    "    pattern = re.compile(r'\\d+')\n",
    "    result = pattern.findall(text)\n",
    "    return result\n",
    "\n",
    "if __name__==\"__main__\":\n",
    "    text = \"This21 is a sample text, showing 33off the stop words filtration.\"\n",
    "    print(regex(text))"
   ]
  },
  {
   "cell_type": "code",
   "execution_count": 9,
   "metadata": {},
   "outputs": [
    {
     "name": "stdout",
     "output_type": "stream",
     "text": [
      "['rohan@gmail.com']\n"
     ]
    }
   ],
   "source": [
    "#REGEX FOR EMAIL\n",
    "\n",
    "import re\n",
    "def regex(text):\n",
    "    pattern = re.compile(r'\\S+@\\S+')\n",
    "    result = pattern.findall(text)\n",
    "    return result\n",
    "\n",
    "if __name__==\"__main__\":\n",
    "\n",
    "    text = \"This21 is a sample text, rohan@gmail.com showing 33off the stop words filtration.\"\n",
    "    print(regex(text))"
   ]
  },
  {
   "cell_type": "code",
   "execution_count": 11,
   "metadata": {},
   "outputs": [
    {
     "name": "stdout",
     "output_type": "stream",
     "text": [
      "['This21', 'is', 'a', 'sample', 'text,showing', '33off', 'the', 'stop', 'words', 'filtration.']\n"
     ]
    }
   ],
   "source": [
    "#split the text into sentences\n",
    "import re\n",
    "def regex(text):\n",
    "    a=re.split(r'\\s', text)\n",
    "    return a\n",
    "\n",
    "if __name__==\"__main__\":\n",
    "    text = \"This21 is a sample text,showing 33off the stop words filtration.\"\n",
    "    print(regex(text))\n"
   ]
  },
  {
   "cell_type": "code",
   "execution_count": 12,
   "metadata": {},
   "outputs": [
    {
     "name": "stdout",
     "output_type": "stream",
     "text": [
      "<re.Match object; span=(4, 6), match='21'>\n"
     ]
    }
   ],
   "source": [
    "#re.search\n",
    "import re\n",
    "def regex(text):\n",
    "    pattern = re.compile(r'\\d+')\n",
    "    result = pattern.search(text)\n",
    "    return result\n",
    "\n",
    "if __name__==\"__main__\":\n",
    "    text = \"This21 is a sample text, showing 33off the stop words filtration.\"\n",
    "    print(regex(text))"
   ]
  },
  {
   "cell_type": "code",
   "execution_count": 19,
   "metadata": {},
   "outputs": [
    {
     "name": "stdout",
     "output_type": "stream",
     "text": [
      "Searching for hello in hello worl\n",
      "Matched\n",
      "Searching for world in hello worl\n",
      "Not Matched\n"
     ]
    }
   ],
   "source": [
    "#find pattern\n",
    "pattern=[\"hello\",\"world\"]\n",
    "text=\"hello worl\"\n",
    "text1=\"abc\"\n",
    "for i in pattern:\n",
    "    print(\"Searching for {} in {}\".format(i,text))\n",
    "    if re.search(i,text):\n",
    "        print(\"Matched\")\n",
    "    else:\n",
    "        print(\"Not Matched\")"
   ]
  },
  {
   "cell_type": "code",
   "execution_count": 23,
   "metadata": {},
   "outputs": [
    {
     "name": "stderr",
     "output_type": "stream",
     "text": [
      "[nltk_data] Downloading package punkt to /home/dataguy/nltk_data...\n",
      "[nltk_data]   Package punkt is already up-to-date!\n"
     ]
    },
    {
     "data": {
      "image/png": "[encoded data removed]",
      "text/plain": [
       "<Figure size 640x480 with 1 Axes>"
      ]
     },
     "metadata": {},
     "output_type": "display_data"
    },
    {
     "name": "stdout",
     "output_type": "stream",
     "text": [
      "AxesSubplot(0.125,0.11;0.775x0.77)\n"
     ]
    }
   ],
   "source": [
    "#frequency distribution\n",
    "from nltk.probability import FreqDist\n",
    "from nltk.tokenize import word_tokenize\n",
    "import nltk\n",
    "\n",
    "def freq_dist(text):\n",
    "    words=word_tokenize(text)\n",
    "    fdist=FreqDist(words)\n",
    "    return fdist\n",
    "\n",
    "if __name__==\"__main__\":\n",
    "    nltk.download('punkt')\n",
    "    text = \"This is a sample text, showing off the stop words filtration.\"\n",
    "    print(freq_dist(text).plot())"
   ]
  },
  {
   "cell_type": "code",
   "execution_count": 28,
   "metadata": {},
   "outputs": [],
   "source": [
    "#implementing positiveNaiveBayesClassifier\n",
    "import nltk\n",
    "import random\n",
    "from nltk.corpus import movie_reviews\n",
    "from nltk.classify.scikitlearn import SklearnClassifier\n",
    "from nltk.classify import ClassifierI\n",
    "from statistics import mode\n",
    "from nltk.tokenize import word_tokenize\n",
    "from nltk.corpus import stopwords\n",
    "from nltk.stem import WordNetLemmatizer\n",
    "import string\n",
    "import numpy as np\n",
    "from nltk.classify import NaiveBayesClassifier\n",
    "from nltk.classify import MaxentClassifier\n",
    "from nltk.classify import DecisionTreeClassifier\n",
    "from nltk.classify import SklearnClassifier\n",
    "from sklearn.svm import SVC\n",
    "from sklearn.linear_model import LogisticRegression\n",
    "\n",
    "class VoteClassifier(ClassifierI):\n",
    "    def __init__(self,*classifiers):\n",
    "        self._classifiers=classifiers\n",
    "    def classify(self,features):\n",
    "        votes=[]\n",
    "        for c in self._classifiers:\n",
    "            v=c.classify(features)\n",
    "            votes.append(v)\n",
    "        return mode(votes)\n",
    "    def confidence(self,features):\n",
    "        votes=[]\n",
    "        for c in self._classifiers:\n",
    "            v=c.classify(features)\n",
    "            votes.append(v)\n",
    "        choice_votes=votes.count(mode(votes))\n",
    "        conf=choice_votes/len(votes)\n",
    "        return conf\n",
    "\n",
    "lemmatizer=WordNetLemmatizer()\n",
    "stop_words=set(stopwords.words('english'))\n",
    "def create_lexicon(pos,neg):\n",
    "    lexicon=[]\n",
    "    for fi in pos+neg:\n",
    "        with open(fi,'r') as f:\n",
    "            contents=f.readlines()\n",
    "            for l in contents[:100]:\n",
    "                all_words=word_tokenize(l.lower())\n",
    "                lexicon+=list(all_words)\n",
    "    lexicon=[lemmatizer.lemmatize(i) for i in lexicon]\n",
    "    w_counts=FreqDist(lexicon)\n",
    "    l2=[]\n",
    "    for w in w_counts:\n",
    "        if 1000>w_counts[w]>50:\n",
    "            l2.append(w)\n",
    "    return l2\n",
    "\n",
    "def sample_handling(sample,lexicon,classification):\n",
    "    featureset=[]\n",
    "    with open(sample,'r') as f:\n",
    "        contents=f.readlines()\n",
    "        for l in contents[:100]:\n",
    "            current_words=word_tokenize(l.lower())\n",
    "            current_words=[lemmatizer.lemmatize(i) for i in current_words]\n",
    "            features=np.zeros(len(lexicon))\n",
    "            for word in current_words:\n",
    "                if word.lower() in lexicon:\n",
    "                    index_value=lexicon.index(word.lower())\n",
    "                    features[index_value]+=1\n",
    "            features=list(features)\n",
    "            featureset.append([features,classification])\n",
    "    return featureset\n",
    "\n",
    "def create_feature_sets_and_labels(pos,neg,test_size=0.1):\n",
    "    lexicon=create_lexicon(pos,neg)\n",
    "    features=[]\n",
    "    features+=sample_handling('pos.txt',lexicon,[1,0])\n",
    "    features+=sample_handling('neg.txt',lexicon,[0,1])\n",
    "    random.shuffle(features)\n",
    "    features=np.array(features)\n",
    "    testing_size=int(test_size*len(features))\n",
    "    train_x=list(features[:,0][:-testing_size])\n",
    "    train_y=list(features[:,1][:-testing_size])\n",
    "    test_x=list(features[:,0][-testing_size:])\n",
    "    test_y=list(features[:,1][-testing_size:])\n",
    "    return train_x,train_y,test_x,test_y\n",
    "\n",
    "if __name__==\"__main__\":\n",
    "    train_x,train_y,test_x,test_y=create_feature_sets_and_labels('pos.txt','neg.txt')\n",
    "    clf=NaiveBayesClassifier.train(train_x,train_y)\n",
    "    clf2=MaxentClassifier.train(train_x,train_y)\n",
    "    clf3=DecisionTreeClassifier.train(train_x,train_y)\n",
    "    clf4=SklearnClassifier(SVC()).train(train_x,train_y)\n",
    "    clf5=SklearnClassifier(LogisticRegression()).train(train_x,train_y)\n",
    "    vote_clf=VoteClassifier(clf,clf2,clf3,clf4,clf5)\n",
    "    print(\"Accuracy of Naive Bayes Classifier: \",(nltk.classify.accuracy(clf,test_x))*100)\n",
    "    print(\"Accuracy of Max Entropy Classifier: \",(nltk.classify.accuracy(clf2,test_x))*100)\n",
    "    print(\"Accuracy of Decision Tree Classifier: \",(nltk.classify.accuracy(clf3,test_x))*100)\n",
    "    print(\"Accuracy of SVM Classifier: \",(nltk.classify.accuracy(clf4,test_x))*100)\n",
    "    print(\"Accuracy of Logistic Regression Classifier: \",(nltk.classify.accuracy(clf5,test_x))*100)\n",
    "    print(\"Accuracy of Voting Classifier: \",(nltk.classify.accuracy(vote_clf,test_x))*100)"
   ]
  },
  {
   "cell_type": "code",
   "execution_count": null,
   "metadata": {},
   "outputs": [],
   "source": []
  }
 ],
 "metadata": {
  "kernelspec": {
   "display_name": "Python 3.10.4 64-bit",
   "language": "python",
   "name": "python3"
  },
  "language_info": {
   "codemirror_mode": {
    "name": "ipython",
    "version": 3
   },
   "file_extension": ".py",
   "mimetype": "text/x-python",
   "name": "python",
   "nbconvert_exporter": "python",
   "pygments_lexer": "ipython3",
   "version": "3.10.4"
  },
  "orig_nbformat": 4,
  "vscode": {
   "interpreter": {
    "hash": "916dbcbb3f70747c44a77c7bcd40155683ae19c65e1c03b4aa3499c5328201f1"
   }
  }
 },
 "nbformat": 4,
 "nbformat_minor": 2
}
